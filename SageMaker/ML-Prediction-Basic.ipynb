{
 "cells": [
  {
   "cell_type": "code",
   "execution_count": 1,
   "metadata": {},
   "outputs": [],
   "source": [
    "# importing modules \n",
    "import numpy as np \n",
    "import pandas as pd \n",
    "import tensorflow as tf \n",
    "import matplotlib.pyplot as plt \n",
    "from sklearn.preprocessing import OneHotEncoder "
   ]
  },
  {
   "cell_type": "code",
   "execution_count": 4,
   "metadata": {},
   "outputs": [
    {
     "name": "stdout",
     "output_type": "stream",
     "text": [
      "Data Shape: (355, 12)\n"
     ]
    }
   ],
   "source": [
    "data = pd.read_csv('1ws.csv') \n",
    "print(\"Data Shape:\", data.shape) "
   ]
  },
  {
   "cell_type": "code",
   "execution_count": 5,
   "metadata": {},
   "outputs": [
    {
     "name": "stdout",
     "output_type": "stream",
     "text": [
      "   EpmployeeId Canteen Lift_H  Shift_H  Lift  Canteen_H  Parking  Cubicle  \\\n",
      "0            0      C1     L3        1     2          4        1        8   \n",
      "1            1      C1     L3        1     2          4        2        5   \n",
      "2            2      C1     L4        1     2          4        2        5   \n",
      "3            4      C1     L4        1     4          4        1        6   \n",
      "4            5      C1     L4        1     2          4        2        6   \n",
      "\n",
      "  Parking_H  Floor_H Zone_H  Rating  \n",
      "0        P2        2      A     4.5  \n",
      "1        P2        2      A     4.5  \n",
      "2        P2        1      B     4.4  \n",
      "3        P2        2      B     4.3  \n",
      "4        P2        1      B     4.4  \n"
     ]
    }
   ],
   "source": [
    "print(data.head()) "
   ]
  },
  {
   "cell_type": "code",
   "execution_count": 50,
   "metadata": {},
   "outputs": [
    {
     "name": "stdout",
     "output_type": "stream",
     "text": [
      "Shape of Feature Matrix: (355, 10)\n",
      "Shape Label Vector: (355, 1)\n"
     ]
    }
   ],
   "source": [
    "# Feature Matrix \n",
    "x_orig = data.iloc[:, 1:-1].values \n",
    "# Data labels \n",
    "y_label = data.iloc[:, -1:].values \n",
    "print(\"Shape of Feature Matrix:\", x_orig.shape) \n",
    "print(\"Shape Label Vector:\", y_label.shape) "
   ]
  },
  {
   "cell_type": "code",
   "execution_count": 52,
   "metadata": {},
   "outputs": [],
   "source": [
    "# Positive Data Points \n",
    "x_pos = np.array([x_orig[i] for i in range(len(x_orig)) \n",
    "                                    if y_label[i] > 4]) \n",
    "# Negative Data Points \n",
    "x_neg = np.array([x_orig[i] for i in range(len(x_orig)) \n",
    "                                    if y_label[i] <= 4])"
   ]
  },
  {
   "cell_type": "code",
   "execution_count": 53,
   "metadata": {},
   "outputs": [],
   "source": [
    "y_orig = (y_label > 4).astype(int)"
   ]
  },
  {
   "cell_type": "code",
   "execution_count": 54,
   "metadata": {},
   "outputs": [
    {
     "data": {
      "image/png": "[encoded data removed]",
      "text/plain": [
       "<Figure size 432x288 with 1 Axes>"
      ]
     },
     "metadata": {
      "needs_background": "light"
     },
     "output_type": "display_data"
    }
   ],
   "source": [
    "# Plotting the Positive Data Points \n",
    "plt.scatter(x_pos[:, 4], x_pos[:, 6], color = 'blue', label = 'Positive') \n",
    "  \n",
    "# Plotting the Negative Data Points \n",
    "plt.scatter(x_neg[:, 4], x_neg[:, 6], color = 'red', label = 'Negative') \n",
    "  \n",
    "plt.xlabel('Canteen') \n",
    "plt.ylabel('Cubicle') \n",
    "plt.title('Plot of given data') \n",
    "plt.legend() \n",
    "  \n",
    "plt.show() "
   ]
  },
  {
   "cell_type": "code",
   "execution_count": 55,
   "metadata": {},
   "outputs": [
    {
     "name": "stdout",
     "output_type": "stream",
     "text": [
      "m = 355\n",
      "n = 32\n",
      "Learning Rate = 0.0035\n",
      "Number of Epochs = 500\n"
     ]
    }
   ],
   "source": [
    "# Creating the One Hot Encoder \n",
    "oneHot = OneHotEncoder() \n",
    "  \n",
    "# Encoding x_orig \n",
    "oneHot.fit(x_orig) \n",
    "x = oneHot.transform(x_orig).toarray() \n",
    "  \n",
    "# Encoding y_orig \n",
    "oneHot.fit(y_orig) \n",
    "y = oneHot.transform(y_orig).toarray() \n",
    "  \n",
    "alpha, epochs = 0.0035, 500\n",
    "m, n = x.shape \n",
    "print('m =', m) \n",
    "print('n =', n) \n",
    "print('Learning Rate =', alpha) \n",
    "print('Number of Epochs =', epochs) "
   ]
  },
  {
   "cell_type": "code",
   "execution_count": 56,
   "metadata": {},
   "outputs": [
    {
     "data": {
      "text/plain": [
       "(355, 2)"
      ]
     },
     "execution_count": 56,
     "metadata": {},
     "output_type": "execute_result"
    }
   ],
   "source": [
    "y.shape "
   ]
  },
  {
   "cell_type": "code",
   "execution_count": 57,
   "metadata": {},
   "outputs": [],
   "source": [
    "import tensorflow.compat.v1 as tf\n",
    "tf.disable_v2_behavior() "
   ]
  },
  {
   "cell_type": "code",
   "execution_count": 58,
   "metadata": {},
   "outputs": [],
   "source": [
    "# There are n columns in the feature matrix \n",
    "# after One Hot Encoding. \n",
    "X = tf.placeholder(tf.float32, [None, n]) \n",
    "  \n",
    "# Since this is a binary classification problem, \n",
    "# Y can take only 2 values. \n",
    "Y = tf.placeholder(tf.float32, [None, 2]) \n",
    "  \n",
    "# Trainable Variable Weights \n",
    "W = tf.Variable(tf.zeros([n, 2])) \n",
    "  \n",
    "# Trainable Variable Bias \n",
    "b = tf.Variable(tf.zeros([2])) "
   ]
  },
  {
   "cell_type": "code",
   "execution_count": 59,
   "metadata": {},
   "outputs": [],
   "source": [
    "# Hypothesis \n",
    "Y_hat = tf.nn.sigmoid(tf.add(tf.matmul(X, W), b)) \n",
    "  \n",
    "# Sigmoid Cross Entropy Cost Function \n",
    "cost = tf.nn.sigmoid_cross_entropy_with_logits( \n",
    "                    logits = Y_hat, labels = Y) \n",
    "  \n",
    "# Gradient Descent Optimizer \n",
    "optimizer = tf.train.GradientDescentOptimizer( \n",
    "         learning_rate = alpha).minimize(cost) \n",
    "  \n",
    "# Global Variables Initializer \n",
    "init = tf.global_variables_initializer() "
   ]
  },
  {
   "cell_type": "code",
   "execution_count": 60,
   "metadata": {},
   "outputs": [
    {
     "name": "stdout",
     "output_type": "stream",
     "text": [
      "Epoch 100 Cost: 452.9573974609375\n",
      "Epoch 200 Cost: 448.0070495605469\n",
      "Epoch 300 Cost: 445.7212677001953\n",
      "Epoch 400 Cost: 444.31239318847656\n",
      "\n",
      "Accuracy: 72.39436507225037 %\n"
     ]
    }
   ],
   "source": [
    "\n",
    "# Starting the Tensorflow Session \n",
    "with tf.Session() as sess: \n",
    "      \n",
    "    # Initializing the Variables \n",
    "    sess.run(init) \n",
    "      \n",
    "    # Lists for storing the changing Cost and Accuracy in every Epoch \n",
    "    cost_history, accuracy_history = [], [] \n",
    "      \n",
    "    # Iterating through all the epochs \n",
    "    for epoch in range(epochs): \n",
    "        cost_per_epoch = 0\n",
    "          \n",
    "        # Running the Optimizer \n",
    "        sess.run(optimizer, feed_dict = {X : x, Y : y}) \n",
    "          \n",
    "        # Calculating cost on current Epoch \n",
    "        c = sess.run(cost, feed_dict = {X : x, Y : y}) \n",
    "          \n",
    "        # Calculating accuracy on current Epoch \n",
    "        correct_prediction = tf.equal(tf.argmax(Y_hat, 1), \n",
    "                                          tf.argmax(Y, 1)) \n",
    "        accuracy = tf.reduce_mean(tf.cast(correct_prediction, \n",
    "                                                 tf.float32)) \n",
    "          \n",
    "        # Storing Cost and Accuracy to the history \n",
    "        cost_history.append(sum(sum(c))) \n",
    "        accuracy_history.append(accuracy.eval({X : x, Y : y}) * 100) \n",
    "          \n",
    "        # Displaying result on current Epoch \n",
    "        if epoch % 100 == 0 and epoch != 0: \n",
    "            print(\"Epoch \" + str(epoch) + \" Cost: \"\n",
    "                            + str(cost_history[-1])) \n",
    "      \n",
    "    Weight = sess.run(W) # Optimized Weight \n",
    "    Bias = sess.run(b)   # Optimized Bias \n",
    "      \n",
    "    # Final Accuracy \n",
    "    correct_prediction = tf.equal(tf.argmax(Y_hat, 1), \n",
    "                                      tf.argmax(Y, 1)) \n",
    "    accuracy = tf.reduce_mean(tf.cast(correct_prediction,  \n",
    "                                             tf.float32)) \n",
    "    print(\"\\nAccuracy:\", accuracy_history[-1], \"%\") "
   ]
  },
  {
   "cell_type": "code",
   "execution_count": 61,
   "metadata": {},
   "outputs": [
    {
     "data": {
      "image/png": "[encoded data removed]",
      "text/plain": [
       "<Figure size 432x288 with 1 Axes>"
      ]
     },
     "metadata": {
      "needs_background": "light"
     },
     "output_type": "display_data"
    }
   ],
   "source": [
    "\n",
    "plt.plot(list(range(epochs)), cost_history) \n",
    "plt.xlabel('Epochs') \n",
    "plt.ylabel('Cost') \n",
    "plt.title('Decrease in Cost with Epochs') \n",
    "  \n",
    "plt.show() "
   ]
  },
  {
   "cell_type": "code",
   "execution_count": 62,
   "metadata": {},
   "outputs": [
    {
     "data": {
      "image/png": "[encoded data removed]",
      "text/plain": [
       "<Figure size 432x288 with 1 Axes>"
      ]
     },
     "metadata": {
      "needs_background": "light"
     },
     "output_type": "display_data"
    }
   ],
   "source": [
    "plt.plot(list(range(epochs)), accuracy_history) \n",
    "plt.xlabel('Epochs') \n",
    "plt.ylabel('Accuracy') \n",
    "plt.title('Increase in Accuracy with Epochs') \n",
    "  \n",
    "plt.show() "
   ]
  },
  {
   "cell_type": "code",
   "execution_count": 64,
   "metadata": {},
   "outputs": [
    {
     "data": {
      "text/plain": [
       "(32, 2)"
      ]
     },
     "execution_count": 64,
     "metadata": {},
     "output_type": "execute_result"
    }
   ],
   "source": [
    "Weight.shape"
   ]
  },
  {
   "cell_type": "code",
   "execution_count": 73,
   "metadata": {},
   "outputs": [],
   "source": [
    "def sigmoid(x):\n",
    "  return 1 / (1 + np.exp(-x))"
   ]
  },
  {
   "cell_type": "code",
   "execution_count": 87,
   "metadata": {},
   "outputs": [
    {
     "data": {
      "text/plain": [
       "array([-0.19747755, -2.03799121])"
      ]
     },
     "execution_count": 87,
     "metadata": {},
     "output_type": "execute_result"
    }
   ],
   "source": [
    "np.dot(Weight.T,x[277]) + Bias"
   ]
  },
  {
   "cell_type": "code",
   "execution_count": 88,
   "metadata": {},
   "outputs": [],
   "source": [
    "y_sig = sigmoid(np.dot(Weight.T,x[277]) + Bias)"
   ]
  },
  {
   "cell_type": "code",
   "execution_count": 89,
   "metadata": {},
   "outputs": [
    {
     "data": {
      "text/plain": [
       "0"
      ]
     },
     "execution_count": 89,
     "metadata": {},
     "output_type": "execute_result"
    }
   ],
   "source": [
    "np.argmax(y_sig) "
   ]
  },
  {
   "cell_type": "code",
   "execution_count": 86,
   "metadata": {},
   "outputs": [
    {
     "data": {
      "text/plain": [
       "array([0])"
      ]
     },
     "execution_count": 86,
     "metadata": {},
     "output_type": "execute_result"
    }
   ],
   "source": [
    "y_orig[277]"
   ]
  },
  {
   "cell_type": "code",
   "execution_count": null,
   "metadata": {},
   "outputs": [],
   "source": []
  }
 ],
 "metadata": {
  "kernelspec": {
   "display_name": "Python 3",
   "language": "python",
   "name": "python3"
  },
  "language_info": {
   "codemirror_mode": {
    "name": "ipython",
    "version": 3
   },
   "file_extension": ".py",
   "mimetype": "text/x-python",
   "name": "python",
   "nbconvert_exporter": "python",
   "pygments_lexer": "ipython3",
   "version": "3.7.6"
  }
 },
 "nbformat": 4,
 "nbformat_minor": 4
}
